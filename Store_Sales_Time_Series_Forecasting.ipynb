{
  "metadata": {
    "kernelspec": {
      "language": "python",
      "display_name": "Python 3",
      "name": "python3"
    },
    "language_info": {
      "name": "python",
      "version": "3.10.13",
      "mimetype": "text/x-python",
      "codemirror_mode": {
        "name": "ipython",
        "version": 3
      },
      "pygments_lexer": "ipython3",
      "nbconvert_exporter": "python",
      "file_extension": ".py"
    },
    "kaggle": {
      "accelerator": "none",
      "dataSources": [
        {
          "sourceId": 29781,
          "databundleVersionId": 2887556,
          "sourceType": "competition"
        }
      ],
      "dockerImageVersionId": 30698,
      "isInternetEnabled": false,
      "language": "python",
      "sourceType": "notebook",
      "isGpuEnabled": false
    },
    "colab": {
      "name": "Store Sales - Time Series Forecasting",
      "provenance": [],
      "include_colab_link": true
    }
  },
  "nbformat_minor": 0,
  "nbformat": 4,
  "cells": [
    {
      "cell_type": "markdown",
      "metadata": {
        "id": "view-in-github",
        "colab_type": "text"
      },
      "source": [
        "<a href=\"https://colab.research.google.com/github/PurnamaRidzkyN/StoreSales-TimeSeriesForecasting/blob/main/Store_Sales_Time_Series_Forecasting.ipynb\" target=\"_parent\"><img src=\"https://colab.research.google.com/assets/colab-badge.svg\" alt=\"Open In Colab\"/></a>"
      ]
    },
    {
      "source": [
        "\n",
        "# IMPORTANT: RUN THIS CELL IN ORDER TO IMPORT YOUR KAGGLE DATA SOURCES\n",
        "# TO THE CORRECT LOCATION (/kaggle/input) IN YOUR NOTEBOOK,\n",
        "# THEN FEEL FREE TO DELETE THIS CELL.\n",
        "# NOTE: THIS NOTEBOOK ENVIRONMENT DIFFERS FROM KAGGLE'S PYTHON\n",
        "# ENVIRONMENT SO THERE MAY BE MISSING LIBRARIES USED BY YOUR\n",
        "# NOTEBOOK.\n",
        "\n",
        "import os\n",
        "import sys\n",
        "from tempfile import NamedTemporaryFile\n",
        "from urllib.request import urlopen\n",
        "from urllib.parse import unquote, urlparse\n",
        "from urllib.error import HTTPError\n",
        "from zipfile import ZipFile\n",
        "import tarfile\n",
        "import shutil\n",
        "\n",
        "CHUNK_SIZE = 40960\n",
        "DATA_SOURCE_MAPPING = 'store-sales-time-series-forecasting:https%3A%2F%2Fstorage.googleapis.com%2Fkaggle-competitions-data%2Fkaggle-v2%2F29781%2F2887556%2Fbundle%2Farchive.zip%3FX-Goog-Algorithm%3DGOOG4-RSA-SHA256%26X-Goog-Credential%3Dgcp-kaggle-com%2540kaggle-161607.iam.gserviceaccount.com%252F20240703%252Fauto%252Fstorage%252Fgoog4_request%26X-Goog-Date%3D20240703T050121Z%26X-Goog-Expires%3D259200%26X-Goog-SignedHeaders%3Dhost%26X-Goog-Signature%3Da3d22ccc1a2430710cda41fbdf9bc8bfc04f96adfc1372a4abd55054dd3f90853bde49ddd836ebf1a67055f14635d539939434f4cf626e358990411967fefe5e8fcb15aa221010c12033f902e8797940fbbde6419fd9031dbe1fe456c381f980dc7a346a73c62413e3cf4bd5446d1d9c51f25b2ba36b4cc6dd529e7a6875880be09a63c5328c9677f40f458c4114d5c8bb5466e054662350fb0e3d0be435842f8f8f5629be15a608c294052209cf92626ab9e516089cc1241cd051b647bbf7c4dc21c57a7a5d3d5d42a1734b23b998e981e6cc85c151330f46be0351eafd3edf8b1b7cc0772494caa3968fd689091d72b06b86f7cbff0a7201695331614339b8'\n",
        "\n",
        "KAGGLE_INPUT_PATH='/kaggle/input'\n",
        "KAGGLE_WORKING_PATH='/kaggle/working'\n",
        "KAGGLE_SYMLINK='kaggle'\n",
        "\n",
        "!umount /kaggle/input/ 2> /dev/null\n",
        "shutil.rmtree('/kaggle/input', ignore_errors=True)\n",
        "os.makedirs(KAGGLE_INPUT_PATH, 0o777, exist_ok=True)\n",
        "os.makedirs(KAGGLE_WORKING_PATH, 0o777, exist_ok=True)\n",
        "\n",
        "try:\n",
        "  os.symlink(KAGGLE_INPUT_PATH, os.path.join(\"..\", 'input'), target_is_directory=True)\n",
        "except FileExistsError:\n",
        "  pass\n",
        "try:\n",
        "  os.symlink(KAGGLE_WORKING_PATH, os.path.join(\"..\", 'working'), target_is_directory=True)\n",
        "except FileExistsError:\n",
        "  pass\n",
        "\n",
        "for data_source_mapping in DATA_SOURCE_MAPPING.split(','):\n",
        "    directory, download_url_encoded = data_source_mapping.split(':')\n",
        "    download_url = unquote(download_url_encoded)\n",
        "    filename = urlparse(download_url).path\n",
        "    destination_path = os.path.join(KAGGLE_INPUT_PATH, directory)\n",
        "    try:\n",
        "        with urlopen(download_url) as fileres, NamedTemporaryFile() as tfile:\n",
        "            total_length = fileres.headers['content-length']\n",
        "            print(f'Downloading {directory}, {total_length} bytes compressed')\n",
        "            dl = 0\n",
        "            data = fileres.read(CHUNK_SIZE)\n",
        "            while len(data) > 0:\n",
        "                dl += len(data)\n",
        "                tfile.write(data)\n",
        "                done = int(50 * dl / int(total_length))\n",
        "                sys.stdout.write(f\"\\r[{'=' * done}{' ' * (50-done)}] {dl} bytes downloaded\")\n",
        "                sys.stdout.flush()\n",
        "                data = fileres.read(CHUNK_SIZE)\n",
        "            if filename.endswith('.zip'):\n",
        "              with ZipFile(tfile) as zfile:\n",
        "                zfile.extractall(destination_path)\n",
        "            else:\n",
        "              with tarfile.open(tfile.name) as tarfile:\n",
        "                tarfile.extractall(destination_path)\n",
        "            print(f'\\nDownloaded and uncompressed: {directory}')\n",
        "    except HTTPError as e:\n",
        "        print(f'Failed to load (likely expired) {download_url} to path {destination_path}')\n",
        "        continue\n",
        "    except OSError as e:\n",
        "        print(f'Failed to load {download_url} to path {destination_path}')\n",
        "        continue\n",
        "\n",
        "print('Data source import complete.')\n"
      ],
      "metadata": {
        "id": "jBbFUsgR-AvU"
      },
      "cell_type": "code",
      "outputs": [],
      "execution_count": null
    },
    {
      "cell_type": "code",
      "source": [
        "# This Python 3 environment comes with many helpful analytics libraries installed\n",
        "# It is defined by the kaggle/python Docker image: https://github.com/kaggle/docker-python\n",
        "# For example, here's several helpful packages to load\n",
        "\n",
        "import numpy as np # linear algebra\n",
        "import pandas as pd # data processing, CSV file I/O (e.g. pd.read_csv)\n",
        "\n",
        "# Input data files are available in the read-only \"../input/\" directory\n",
        "# For example, running this (by clicking run or pressing Shift+Enter) will list all files under the input directory\n",
        "\n",
        "import os\n",
        "for dirname, _, filenames in os.walk('/kaggle/input'):\n",
        "    for filename in filenames:\n",
        "        print(os.path.join(dirname, filename))\n",
        "\n",
        "# You can write up to 20GB to the current directory (/kaggle/working/) that gets preserved as output when you create a version using \"Save & Run All\"\n",
        "# You can also write temporary files to /kaggle/temp/, but they won't be saved outside of the current session"
      ],
      "metadata": {
        "_uuid": "44a6322d-3458-45d6-b63d-947ea1db3e3f",
        "_cell_guid": "ab00419b-020f-4948-ab3d-242e4c05d0c1",
        "jupyter": {
          "outputs_hidden": false
        },
        "execution": {
          "iopub.status.busy": "2024-07-03T04:52:46.590148Z",
          "iopub.execute_input": "2024-07-03T04:52:46.59048Z",
          "iopub.status.idle": "2024-07-03T04:52:47.008197Z",
          "shell.execute_reply.started": "2024-07-03T04:52:46.590449Z",
          "shell.execute_reply": "2024-07-03T04:52:47.007069Z"
        },
        "trusted": true,
        "id": "U_5a1Skx-AvZ"
      },
      "execution_count": null,
      "outputs": []
    },
    {
      "cell_type": "code",
      "source": [
        "def create_features(df, label=None):\n",
        "    \"\"\"\n",
        "    Creates time series features from datetime index.\n",
        "    \"\"\"\n",
        "    df = df.copy()\n",
        "    df['date'] = df.index\n",
        "    df['hour'] = df['date'].dt.hour\n",
        "    df['dayofweek'] = df['date'].dt.dayofweek\n",
        "    df['weekday'] = df['date'].dt.day_name()\n",
        "    df['weekday'] = df['weekday'].astype(cat_type)\n",
        "    df['quarter'] = df['date'].dt.quarter\n",
        "    df['month'] = df['date'].dt.month\n",
        "    df['year'] = df['date'].dt.year\n",
        "    df['dayofyear'] = df['date'].dt.dayofyear\n",
        "    df['dayofmonth'] = df['date'].dt.day\n",
        "    df['weekofyear'] = df['date'].dt.weekofyear\n",
        "    df['date_offset'] = (df.date.dt.month*100 + df.date.dt.day - 320)%1300\n",
        "\n",
        "    df['season'] = pd.cut(df['date_offset'], [0, 300, 602, 900, 1300],\n",
        "                          labels=['Spring', 'Summer', 'Fall', 'Winter']\n",
        "                   )\n",
        "    X = df[['hour','dayofweek','quarter','month','year',\n",
        "           'dayofyear','dayofmonth','weekofyear','weekday',\n",
        "           'season']]\n",
        "    if label:\n",
        "        y = df[label]\n",
        "        return X, y\n",
        "    return X\n"
      ],
      "metadata": {
        "execution": {
          "iopub.status.busy": "2024-07-03T04:52:47.009756Z",
          "iopub.execute_input": "2024-07-03T04:52:47.010284Z",
          "iopub.status.idle": "2024-07-03T04:52:47.020305Z",
          "shell.execute_reply.started": "2024-07-03T04:52:47.010251Z",
          "shell.execute_reply": "2024-07-03T04:52:47.019063Z"
        },
        "trusted": true,
        "id": "Vapxi-Ey-Ava"
      },
      "execution_count": null,
      "outputs": []
    },
    {
      "cell_type": "code",
      "source": [
        "import pandas as pd\n",
        "import numpy as np\n",
        "import matplotlib.pyplot as plt\n",
        "import seaborn as sns\n",
        "from statsmodels.tsa.seasonal import seasonal_decompose\n",
        "from statsmodels.tsa.stattools import adfuller\n",
        "from statsmodels.tsa.arima.model import ARIMA\n",
        "from sklearn.metrics import mean_squared_error\n",
        "color_pal= sns.color_palette()"
      ],
      "metadata": {
        "execution": {
          "iopub.status.busy": "2024-07-03T04:52:47.021716Z",
          "iopub.execute_input": "2024-07-03T04:52:47.02211Z",
          "iopub.status.idle": "2024-07-03T04:52:47.809193Z",
          "shell.execute_reply.started": "2024-07-03T04:52:47.022078Z",
          "shell.execute_reply": "2024-07-03T04:52:47.80806Z"
        },
        "trusted": true,
        "id": "Gp8lRFDq-Avb"
      },
      "execution_count": null,
      "outputs": []
    },
    {
      "cell_type": "code",
      "source": [
        "file_holiday = '/kaggle/input/store-sales-time-series-forecasting/holidays_events.csv'\n",
        "file_oil = '/kaggle/input/store-sales-time-series-forecasting/oil.csv'\n",
        "file_stores = '/kaggle/input/store-sales-time-series-forecasting/stores.csv'\n",
        "file_train = '/kaggle/input/store-sales-time-series-forecasting/train.csv'\n",
        "file_transactions = '/kaggle/input/store-sales-time-series-forecasting/transactions.csv'\n",
        "file_test='/kaggle/input/store-sales-time-series-forecasting/test.csv'"
      ],
      "metadata": {
        "_uuid": "7b896fbd-6afd-491c-88bb-fb851e105c82",
        "_cell_guid": "326be57a-ec30-4865-a965-03ada01af721",
        "jupyter": {
          "outputs_hidden": false
        },
        "execution": {
          "iopub.status.busy": "2024-07-03T04:52:47.811958Z",
          "iopub.execute_input": "2024-07-03T04:52:47.81256Z",
          "iopub.status.idle": "2024-07-03T04:52:47.818663Z",
          "shell.execute_reply.started": "2024-07-03T04:52:47.812517Z",
          "shell.execute_reply": "2024-07-03T04:52:47.817229Z"
        },
        "trusted": true,
        "id": "nE9Bz0ox-Avb"
      },
      "execution_count": null,
      "outputs": []
    },
    {
      "cell_type": "code",
      "source": [
        "\n",
        "df_holiday = pd.read_csv(file_holiday)\n",
        "df_stores = pd.read_csv(file_stores)\n",
        "df_train = pd.read_csv(file_train)\n",
        "\n",
        "df_test = pd.read_csv(file_test)"
      ],
      "metadata": {
        "_uuid": "de0134b9-c9b1-44a3-b3ee-7914a2662b6f",
        "_cell_guid": "c5bb65d2-3889-4b8e-b2b0-12712eb4105a",
        "jupyter": {
          "outputs_hidden": false
        },
        "execution": {
          "iopub.status.busy": "2024-07-03T04:52:47.820079Z",
          "iopub.execute_input": "2024-07-03T04:52:47.820567Z",
          "iopub.status.idle": "2024-07-03T04:52:50.058609Z",
          "shell.execute_reply.started": "2024-07-03T04:52:47.820524Z",
          "shell.execute_reply": "2024-07-03T04:52:50.057335Z"
        },
        "trusted": true,
        "id": "y67N31rM-Avb"
      },
      "execution_count": null,
      "outputs": []
    },
    {
      "cell_type": "code",
      "source": [
        "\n",
        "df_holiday.info()\n",
        "df_stores.info()\n",
        "\n",
        "df_train.info()"
      ],
      "metadata": {
        "execution": {
          "iopub.status.busy": "2024-07-03T04:52:50.059827Z",
          "iopub.execute_input": "2024-07-03T04:52:50.060189Z",
          "iopub.status.idle": "2024-07-03T04:52:50.0831Z",
          "shell.execute_reply.started": "2024-07-03T04:52:50.060159Z",
          "shell.execute_reply": "2024-07-03T04:52:50.081778Z"
        },
        "trusted": true,
        "id": "3ql3m5RZ-Avc"
      },
      "execution_count": null,
      "outputs": []
    },
    {
      "cell_type": "code",
      "source": [
        "df_test"
      ],
      "metadata": {
        "execution": {
          "iopub.status.busy": "2024-07-03T04:52:50.084288Z",
          "iopub.execute_input": "2024-07-03T04:52:50.084651Z",
          "iopub.status.idle": "2024-07-03T04:52:50.107364Z",
          "shell.execute_reply.started": "2024-07-03T04:52:50.084621Z",
          "shell.execute_reply": "2024-07-03T04:52:50.106197Z"
        },
        "trusted": true,
        "id": "Zk7otvDO-Avc"
      },
      "execution_count": null,
      "outputs": []
    },
    {
      "cell_type": "code",
      "source": [
        "df_train.tail()\n"
      ],
      "metadata": {
        "execution": {
          "iopub.status.busy": "2024-07-03T04:52:50.108881Z",
          "iopub.execute_input": "2024-07-03T04:52:50.109349Z",
          "iopub.status.idle": "2024-07-03T04:52:50.122204Z",
          "shell.execute_reply.started": "2024-07-03T04:52:50.109319Z",
          "shell.execute_reply": "2024-07-03T04:52:50.121027Z"
        },
        "trusted": true,
        "id": "RvGE3XwS-Avd"
      },
      "execution_count": null,
      "outputs": []
    },
    {
      "cell_type": "code",
      "source": [
        "df_holiday.head()"
      ],
      "metadata": {
        "execution": {
          "iopub.status.busy": "2024-07-03T04:52:50.123767Z",
          "iopub.execute_input": "2024-07-03T04:52:50.124212Z",
          "iopub.status.idle": "2024-07-03T04:52:50.140272Z",
          "shell.execute_reply.started": "2024-07-03T04:52:50.124171Z",
          "shell.execute_reply": "2024-07-03T04:52:50.138952Z"
        },
        "trusted": true,
        "id": "v1JyU4Fe-Avd"
      },
      "execution_count": null,
      "outputs": []
    },
    {
      "cell_type": "code",
      "source": [
        "df_holiday= df_holiday.loc[df_holiday['transferred'] == False]"
      ],
      "metadata": {
        "execution": {
          "iopub.status.busy": "2024-07-03T04:52:50.141535Z",
          "iopub.execute_input": "2024-07-03T04:52:50.14186Z",
          "iopub.status.idle": "2024-07-03T04:52:50.152195Z",
          "shell.execute_reply.started": "2024-07-03T04:52:50.141833Z",
          "shell.execute_reply": "2024-07-03T04:52:50.150917Z"
        },
        "trusted": true,
        "id": "QOg3TWiN-Avd"
      },
      "execution_count": null,
      "outputs": []
    },
    {
      "cell_type": "code",
      "source": [
        "df_train['sales'].unique()\n"
      ],
      "metadata": {
        "execution": {
          "iopub.status.busy": "2024-07-03T04:52:50.153748Z",
          "iopub.execute_input": "2024-07-03T04:52:50.154286Z",
          "iopub.status.idle": "2024-07-03T04:52:50.234664Z",
          "shell.execute_reply.started": "2024-07-03T04:52:50.154244Z",
          "shell.execute_reply": "2024-07-03T04:52:50.233441Z"
        },
        "trusted": true,
        "id": "rCkdPKCl-Ave"
      },
      "execution_count": null,
      "outputs": []
    },
    {
      "cell_type": "code",
      "source": [
        "df_stores['city'].unique()"
      ],
      "metadata": {
        "execution": {
          "iopub.status.busy": "2024-07-03T04:52:50.236471Z",
          "iopub.execute_input": "2024-07-03T04:52:50.236926Z",
          "iopub.status.idle": "2024-07-03T04:52:50.246698Z",
          "shell.execute_reply.started": "2024-07-03T04:52:50.236886Z",
          "shell.execute_reply": "2024-07-03T04:52:50.245589Z"
        },
        "trusted": true,
        "id": "zgHBCbnD-Ave"
      },
      "execution_count": null,
      "outputs": []
    },
    {
      "cell_type": "code",
      "source": [
        "df_train['date'] = pd.to_datetime(df_train['date'])\n",
        "df_test['date'] = pd.to_datetime(df_test['date'])"
      ],
      "metadata": {
        "execution": {
          "iopub.status.busy": "2024-07-03T04:52:50.25212Z",
          "iopub.execute_input": "2024-07-03T04:52:50.252559Z",
          "iopub.status.idle": "2024-07-03T04:52:50.569255Z",
          "shell.execute_reply.started": "2024-07-03T04:52:50.252518Z",
          "shell.execute_reply": "2024-07-03T04:52:50.568218Z"
        },
        "trusted": true,
        "id": "jAXUXb2B-Ave"
      },
      "execution_count": null,
      "outputs": []
    },
    {
      "cell_type": "code",
      "source": [
        "df_train"
      ],
      "metadata": {
        "execution": {
          "iopub.status.busy": "2024-07-03T04:52:50.570607Z",
          "iopub.execute_input": "2024-07-03T04:52:50.57103Z",
          "iopub.status.idle": "2024-07-03T04:52:50.586615Z",
          "shell.execute_reply.started": "2024-07-03T04:52:50.570972Z",
          "shell.execute_reply": "2024-07-03T04:52:50.58518Z"
        },
        "trusted": true,
        "id": "tfPRMcqK-Ave"
      },
      "execution_count": null,
      "outputs": []
    },
    {
      "cell_type": "code",
      "source": [
        "df_train[\"family\"].unique()"
      ],
      "metadata": {
        "execution": {
          "iopub.status.busy": "2024-07-03T04:52:50.588126Z",
          "iopub.execute_input": "2024-07-03T04:52:50.588503Z",
          "iopub.status.idle": "2024-07-03T04:52:50.794719Z",
          "shell.execute_reply.started": "2024-07-03T04:52:50.588472Z",
          "shell.execute_reply": "2024-07-03T04:52:50.793526Z"
        },
        "trusted": true,
        "id": "-9G0FOXD-Ave"
      },
      "execution_count": null,
      "outputs": []
    },
    {
      "cell_type": "code",
      "source": [
        "df_train"
      ],
      "metadata": {
        "execution": {
          "iopub.status.busy": "2024-07-03T04:52:50.795938Z",
          "iopub.execute_input": "2024-07-03T04:52:50.796294Z",
          "iopub.status.idle": "2024-07-03T04:52:50.812041Z",
          "shell.execute_reply.started": "2024-07-03T04:52:50.796266Z",
          "shell.execute_reply": "2024-07-03T04:52:50.81064Z"
        },
        "trusted": true,
        "id": "Dt3sdeFv-Ave"
      },
      "execution_count": null,
      "outputs": []
    },
    {
      "cell_type": "code",
      "source": [
        "df_holiday"
      ],
      "metadata": {
        "execution": {
          "iopub.status.busy": "2024-07-03T04:52:50.813857Z",
          "iopub.execute_input": "2024-07-03T04:52:50.814374Z",
          "iopub.status.idle": "2024-07-03T04:52:50.83459Z",
          "shell.execute_reply.started": "2024-07-03T04:52:50.814332Z",
          "shell.execute_reply": "2024-07-03T04:52:50.833183Z"
        },
        "trusted": true,
        "id": "7rv-TDKt-Ave"
      },
      "execution_count": null,
      "outputs": []
    },
    {
      "cell_type": "code",
      "source": [
        "\n",
        "\n",
        "# Menggabungkan df_train_concat dengan df_holiday_filtered berdasarkan kolom 'date'\n",
        "df_merged = pd.merge(df_train, df_stores, on='store_nbr', how='left')\n",
        "df_merged_test = pd.merge(df_test, df_stores, on='store_nbr', how='left')\n"
      ],
      "metadata": {
        "execution": {
          "iopub.status.busy": "2024-07-03T04:52:50.835933Z",
          "iopub.execute_input": "2024-07-03T04:52:50.836435Z",
          "iopub.status.idle": "2024-07-03T04:52:51.330309Z",
          "shell.execute_reply.started": "2024-07-03T04:52:50.836402Z",
          "shell.execute_reply": "2024-07-03T04:52:51.328773Z"
        },
        "trusted": true,
        "id": "ob4W8L9A-Ave"
      },
      "execution_count": null,
      "outputs": []
    },
    {
      "cell_type": "code",
      "source": [
        "df_merged['type'].unique()"
      ],
      "metadata": {
        "execution": {
          "iopub.status.busy": "2024-07-03T04:52:51.331746Z",
          "iopub.execute_input": "2024-07-03T04:52:51.332137Z",
          "iopub.status.idle": "2024-07-03T04:52:51.487465Z",
          "shell.execute_reply.started": "2024-07-03T04:52:51.332104Z",
          "shell.execute_reply": "2024-07-03T04:52:51.486389Z"
        },
        "trusted": true,
        "id": "4CKcYc8D-Avf"
      },
      "execution_count": null,
      "outputs": []
    },
    {
      "cell_type": "code",
      "source": [
        "df_holiday['date'] = pd.to_datetime(df_holiday['date'])"
      ],
      "metadata": {
        "execution": {
          "iopub.status.busy": "2024-07-03T04:52:51.488778Z",
          "iopub.execute_input": "2024-07-03T04:52:51.489126Z",
          "iopub.status.idle": "2024-07-03T04:52:51.495791Z",
          "shell.execute_reply.started": "2024-07-03T04:52:51.489097Z",
          "shell.execute_reply": "2024-07-03T04:52:51.494738Z"
        },
        "trusted": true,
        "id": "TFDgzsJ7-Avf"
      },
      "execution_count": null,
      "outputs": []
    },
    {
      "cell_type": "code",
      "source": [
        "kolom_duplikat = 'date'\n",
        "\n",
        "\n",
        "df_holiday = df_holiday[df_holiday['transferred'] == False]\n",
        "df_holiday = df_holiday.drop_duplicates(subset=kolom_duplikat, keep='first')\n",
        "\n",
        "\n",
        "# Tampilkan hasil\n",
        "print(df_holiday)"
      ],
      "metadata": {
        "execution": {
          "iopub.status.busy": "2024-07-03T04:52:51.497038Z",
          "iopub.execute_input": "2024-07-03T04:52:51.49737Z",
          "iopub.status.idle": "2024-07-03T04:52:51.523949Z",
          "shell.execute_reply.started": "2024-07-03T04:52:51.497332Z",
          "shell.execute_reply": "2024-07-03T04:52:51.522785Z"
        },
        "trusted": true,
        "id": "AUjnuGK0-Avf"
      },
      "execution_count": null,
      "outputs": []
    },
    {
      "cell_type": "code",
      "source": [
        "\n",
        "start_date = '2013-01-01'\n",
        "end_date = '2017-08-15'\n",
        "df_holiday_filtered = df_holiday[(df_holiday['date'] >= start_date) & (df_holiday['date'] <= end_date)]\n",
        "\n",
        "\n",
        "df_merge= pd.merge(df_merged, df_holiday_filtered, on='date' ,how='left')\n",
        "\n",
        "# test\n",
        "start_date = '2017-08-15'\n",
        "df_holiday = df_holiday[(df_holiday['date'] > start_date)]\n",
        "df_merge_test= pd.merge(df_merged_test,df_holiday,on='date',how='left')"
      ],
      "metadata": {
        "execution": {
          "iopub.status.busy": "2024-07-03T04:52:51.525615Z",
          "iopub.execute_input": "2024-07-03T04:52:51.525981Z",
          "iopub.status.idle": "2024-07-03T04:52:53.213974Z",
          "shell.execute_reply.started": "2024-07-03T04:52:51.525953Z",
          "shell.execute_reply": "2024-07-03T04:52:53.212586Z"
        },
        "trusted": true,
        "id": "ie_ZX78k-Avf"
      },
      "execution_count": null,
      "outputs": []
    },
    {
      "cell_type": "code",
      "source": [
        "df_merge"
      ],
      "metadata": {
        "execution": {
          "iopub.status.busy": "2024-07-03T04:52:53.215424Z",
          "iopub.execute_input": "2024-07-03T04:52:53.21579Z",
          "iopub.status.idle": "2024-07-03T04:52:53.237712Z",
          "shell.execute_reply.started": "2024-07-03T04:52:53.215757Z",
          "shell.execute_reply": "2024-07-03T04:52:53.236462Z"
        },
        "trusted": true,
        "id": "XKqxBEuN-Avf"
      },
      "execution_count": null,
      "outputs": []
    },
    {
      "cell_type": "code",
      "source": [
        "df_merge['transferred'].unique()"
      ],
      "metadata": {
        "execution": {
          "iopub.status.busy": "2024-07-03T04:52:53.239229Z",
          "iopub.execute_input": "2024-07-03T04:52:53.239609Z",
          "iopub.status.idle": "2024-07-03T04:52:53.389069Z",
          "shell.execute_reply.started": "2024-07-03T04:52:53.239577Z",
          "shell.execute_reply": "2024-07-03T04:52:53.387905Z"
        },
        "trusted": true,
        "id": "UcSdON5X-Avf"
      },
      "execution_count": null,
      "outputs": []
    },
    {
      "cell_type": "code",
      "source": [
        "df_merge.info()"
      ],
      "metadata": {
        "execution": {
          "iopub.status.busy": "2024-07-03T04:52:53.390428Z",
          "iopub.execute_input": "2024-07-03T04:52:53.390788Z",
          "iopub.status.idle": "2024-07-03T04:52:53.406355Z",
          "shell.execute_reply.started": "2024-07-03T04:52:53.390755Z",
          "shell.execute_reply": "2024-07-03T04:52:53.405075Z"
        },
        "trusted": true,
        "id": "APYkNsgC-Avf"
      },
      "execution_count": null,
      "outputs": []
    },
    {
      "cell_type": "code",
      "source": [
        "total_missing_count = df_merge.isnull().sum()\n",
        "total_missing_count"
      ],
      "metadata": {
        "execution": {
          "iopub.status.busy": "2024-07-03T04:52:53.407611Z",
          "iopub.execute_input": "2024-07-03T04:52:53.407934Z",
          "iopub.status.idle": "2024-07-03T04:52:54.483528Z",
          "shell.execute_reply.started": "2024-07-03T04:52:53.407902Z",
          "shell.execute_reply": "2024-07-03T04:52:54.482242Z"
        },
        "trusted": true,
        "id": "kohx8EIq-Avf"
      },
      "execution_count": null,
      "outputs": []
    },
    {
      "cell_type": "code",
      "source": [
        "df_merge = df_merge.fillna(0)\n",
        "df_merge_test = df_merge_test.fillna(0)\n"
      ],
      "metadata": {
        "execution": {
          "iopub.status.busy": "2024-07-03T04:52:54.485155Z",
          "iopub.execute_input": "2024-07-03T04:52:54.485523Z",
          "iopub.status.idle": "2024-07-03T04:52:57.264425Z",
          "shell.execute_reply.started": "2024-07-03T04:52:54.485493Z",
          "shell.execute_reply": "2024-07-03T04:52:57.263253Z"
        },
        "trusted": true,
        "id": "sPrZ5TfM-Avf"
      },
      "execution_count": null,
      "outputs": []
    },
    {
      "cell_type": "code",
      "source": [
        "df_merge.set_index('id', inplace=True)\n",
        "df_merge_test.set_index('id', inplace=True)"
      ],
      "metadata": {
        "execution": {
          "iopub.status.busy": "2024-07-03T04:52:57.265771Z",
          "iopub.execute_input": "2024-07-03T04:52:57.266124Z",
          "iopub.status.idle": "2024-07-03T04:52:57.273308Z",
          "shell.execute_reply.started": "2024-07-03T04:52:57.266094Z",
          "shell.execute_reply": "2024-07-03T04:52:57.272195Z"
        },
        "trusted": true,
        "id": "O_knQkgs-Avg"
      },
      "execution_count": null,
      "outputs": []
    },
    {
      "cell_type": "code",
      "source": [
        "df_merge['locale_name'].unique()"
      ],
      "metadata": {
        "execution": {
          "iopub.status.busy": "2024-07-03T04:52:57.274622Z",
          "iopub.execute_input": "2024-07-03T04:52:57.274967Z",
          "iopub.status.idle": "2024-07-03T04:52:57.350756Z",
          "shell.execute_reply.started": "2024-07-03T04:52:57.274938Z",
          "shell.execute_reply": "2024-07-03T04:52:57.349321Z"
        },
        "trusted": true,
        "id": "nVzn7ivr-Avg"
      },
      "execution_count": null,
      "outputs": []
    },
    {
      "cell_type": "code",
      "source": [
        "from sklearn.base import BaseEstimator, TransformerMixin\n",
        "import pandas as pd\n",
        "\n",
        "class FeatureEncoder(BaseEstimator, TransformerMixin):\n",
        "    def __init__(self, type_column='type_x', locale_column='locale'):\n",
        "        self.type_column = type_column\n",
        "        self.locale_column = locale_column\n",
        "        self.type_mapping = {'A': 1, 'B': 2, 'C': 3, 'D': 4, 'E': 5}\n",
        "        self.locale_mapping = {'National': 1, 'Regional': 2, 'Local': 3, 0: 0}\n",
        "\n",
        "    def fit(self, X, y=None):\n",
        "        return self\n",
        "\n",
        "    def transform(self, X):\n",
        "        X = X.copy()  # Make a copy of X to avoid changing the original data\n",
        "\n",
        "        # Map the type_x and locale columns\n",
        "        X[self.type_column] = X[self.type_column].map(self.type_mapping)\n",
        "        X[self.locale_column] = X[self.locale_column].map(self.locale_mapping)\n",
        "\n",
        "        # Handle any remaining NaNs by filling them with a default value if needed\n",
        "        X[self.type_column].fillna(0,inplace= True)\n",
        "        X[self.locale_column].fillna(0, inplace = True)\n",
        "\n",
        "        return X\n",
        "\n"
      ],
      "metadata": {
        "execution": {
          "iopub.status.busy": "2024-07-03T04:52:57.352532Z",
          "iopub.execute_input": "2024-07-03T04:52:57.35291Z",
          "iopub.status.idle": "2024-07-03T04:52:57.363519Z",
          "shell.execute_reply.started": "2024-07-03T04:52:57.352875Z",
          "shell.execute_reply": "2024-07-03T04:52:57.362314Z"
        },
        "trusted": true,
        "id": "6rtz2Z5Y-Avg"
      },
      "execution_count": null,
      "outputs": []
    },
    {
      "cell_type": "code",
      "source": [
        "\n",
        "class DropColumns(BaseEstimator, TransformerMixin):\n",
        "    def __init__(self, columns):\n",
        "        self.columns = columns\n",
        "\n",
        "    def fit(self, X, y=None):\n",
        "        return self\n",
        "\n",
        "    def transform(self, X):\n",
        "        return X.drop(columns=self.columns)"
      ],
      "metadata": {
        "execution": {
          "iopub.status.busy": "2024-07-03T04:52:57.364955Z",
          "iopub.execute_input": "2024-07-03T04:52:57.365358Z",
          "iopub.status.idle": "2024-07-03T04:52:57.377014Z",
          "shell.execute_reply.started": "2024-07-03T04:52:57.365327Z",
          "shell.execute_reply": "2024-07-03T04:52:57.37592Z"
        },
        "trusted": true,
        "id": "k8I5UfiN-Avg"
      },
      "execution_count": null,
      "outputs": []
    },
    {
      "cell_type": "code",
      "source": [
        "df_merge"
      ],
      "metadata": {
        "execution": {
          "iopub.status.busy": "2024-07-03T04:52:57.378386Z",
          "iopub.execute_input": "2024-07-03T04:52:57.378734Z",
          "iopub.status.idle": "2024-07-03T04:52:57.404454Z",
          "shell.execute_reply.started": "2024-07-03T04:52:57.378701Z",
          "shell.execute_reply": "2024-07-03T04:52:57.403139Z"
        },
        "trusted": true,
        "id": "98Mmpm-Z-Avg"
      },
      "execution_count": null,
      "outputs": []
    },
    {
      "cell_type": "code",
      "source": [
        "df_merge['city'].unique()"
      ],
      "metadata": {
        "execution": {
          "iopub.status.busy": "2024-07-03T04:52:57.405869Z",
          "iopub.execute_input": "2024-07-03T04:52:57.406541Z",
          "iopub.status.idle": "2024-07-03T04:52:57.600479Z",
          "shell.execute_reply.started": "2024-07-03T04:52:57.406506Z",
          "shell.execute_reply": "2024-07-03T04:52:57.599182Z"
        },
        "trusted": true,
        "id": "csODj1hk-Avg"
      },
      "execution_count": null,
      "outputs": []
    },
    {
      "cell_type": "code",
      "source": [
        "columns_to_drop = ['transferred', 'description', 'family']"
      ],
      "metadata": {
        "execution": {
          "iopub.status.busy": "2024-07-03T04:52:57.601867Z",
          "iopub.execute_input": "2024-07-03T04:52:57.602244Z",
          "iopub.status.idle": "2024-07-03T04:52:57.607674Z",
          "shell.execute_reply.started": "2024-07-03T04:52:57.602212Z",
          "shell.execute_reply": "2024-07-03T04:52:57.606459Z"
        },
        "trusted": true,
        "id": "zDTm3SHM-Avh"
      },
      "execution_count": null,
      "outputs": []
    },
    {
      "cell_type": "code",
      "source": [
        "from sklearn.pipeline import Pipeline\n",
        "\n",
        "# Membuat pipeline\n",
        "pipeline = Pipeline([\n",
        "    ('type_to_int', FeatureEncoder()),\n",
        "    ('Dropcloumns', DropColumns(columns=columns_to_drop))\n",
        "    # Anda bisa menambahkan transformer atau estimator lainnya di sini\n",
        "])\n",
        "\n",
        "# Melakukan fit dan transformasi menggunakan pipeline\n",
        "df_merge = pipeline.fit_transform(df_merge)\n",
        "df_merge_test=pipeline.fit_transform(df_merge_test)\n"
      ],
      "metadata": {
        "execution": {
          "iopub.status.busy": "2024-07-03T04:52:57.608898Z",
          "iopub.execute_input": "2024-07-03T04:52:57.609259Z",
          "iopub.status.idle": "2024-07-03T04:52:59.495708Z",
          "shell.execute_reply.started": "2024-07-03T04:52:57.60923Z",
          "shell.execute_reply": "2024-07-03T04:52:59.49431Z"
        },
        "trusted": true,
        "id": "pSOzRoMF-Avh"
      },
      "execution_count": null,
      "outputs": []
    },
    {
      "cell_type": "code",
      "source": [],
      "metadata": {
        "trusted": true,
        "id": "5oy1npq0-Avh"
      },
      "execution_count": null,
      "outputs": []
    },
    {
      "cell_type": "code",
      "source": [
        "df_merge['locale'].unique()"
      ],
      "metadata": {
        "execution": {
          "iopub.status.busy": "2024-07-03T04:52:59.497005Z",
          "iopub.execute_input": "2024-07-03T04:52:59.497384Z",
          "iopub.status.idle": "2024-07-03T04:52:59.521189Z",
          "shell.execute_reply.started": "2024-07-03T04:52:59.497348Z",
          "shell.execute_reply": "2024-07-03T04:52:59.520068Z"
        },
        "trusted": true,
        "id": "2W4-V_Rq-Avh"
      },
      "execution_count": null,
      "outputs": []
    },
    {
      "cell_type": "code",
      "source": [
        "df_objects = df_merge.select_dtypes(include=['object'])\n",
        "df_objects_test = df_merge.select_dtypes(include=['object'])"
      ],
      "metadata": {
        "execution": {
          "iopub.status.busy": "2024-07-03T04:52:59.522558Z",
          "iopub.execute_input": "2024-07-03T04:52:59.522879Z",
          "iopub.status.idle": "2024-07-03T04:53:00.478917Z",
          "shell.execute_reply.started": "2024-07-03T04:52:59.522854Z",
          "shell.execute_reply": "2024-07-03T04:53:00.477796Z"
        },
        "trusted": true,
        "id": "T-nEHxAd-Avi"
      },
      "execution_count": null,
      "outputs": []
    },
    {
      "cell_type": "code",
      "source": [
        "from sklearn.feature_extraction import FeatureHasher\n",
        "\n",
        "hasher = FeatureHasher(n_features=3, input_type='string')\n",
        "hashed_features = hasher.fit_transform(df_objects.values.astype(str))\n",
        "hashed_df = pd.DataFrame(hashed_features.toarray(), columns=['Feature_1','Feature_2','Feature_3'])\n",
        "print(hashed_df)\n",
        "\n",
        "# test\n",
        "hasher = FeatureHasher(n_features=3, input_type='string')\n",
        "hashed_features = hasher.fit_transform(df_objects_test.values.astype(str))\n",
        "hashed_df_test = pd.DataFrame(hashed_features.toarray(), columns=['Feature_1','Feature_2','Feature_3'])\n"
      ],
      "metadata": {
        "execution": {
          "iopub.status.busy": "2024-07-03T04:53:00.480322Z",
          "iopub.execute_input": "2024-07-03T04:53:00.480729Z",
          "iopub.status.idle": "2024-07-03T04:53:31.35784Z",
          "shell.execute_reply.started": "2024-07-03T04:53:00.480694Z",
          "shell.execute_reply": "2024-07-03T04:53:31.356547Z"
        },
        "trusted": true,
        "id": "cpnlf5OR-Avn"
      },
      "execution_count": null,
      "outputs": []
    },
    {
      "cell_type": "code",
      "source": [
        "df_train = pd.merge(df_merge, hashed_df, left_index=True, right_index=True)\n"
      ],
      "metadata": {
        "execution": {
          "iopub.status.busy": "2024-07-03T04:53:31.359134Z",
          "iopub.execute_input": "2024-07-03T04:53:31.359473Z",
          "iopub.status.idle": "2024-07-03T04:53:32.101571Z",
          "shell.execute_reply.started": "2024-07-03T04:53:31.359445Z",
          "shell.execute_reply": "2024-07-03T04:53:32.100323Z"
        },
        "trusted": true,
        "id": "NpZ96MRm-Avn"
      },
      "execution_count": null,
      "outputs": []
    },
    {
      "cell_type": "code",
      "source": [
        "numeric_columns = df_train.select_dtypes(include=['float64','int64'])\n",
        "\n",
        "correlation_matrix = numeric_columns.corr()\n",
        "\n",
        "plt.figure(figsize=(12,8))\n",
        "sns.heatmap(correlation_matrix, cmap=\"YlGnBu\", annot=True, linewidths=1.0)\n",
        "plt.title(\"Correlation between Numeric columns in the Dataset\")\n",
        "plt.show()"
      ],
      "metadata": {
        "execution": {
          "iopub.status.busy": "2024-07-03T04:53:32.108394Z",
          "iopub.execute_input": "2024-07-03T04:53:32.10949Z",
          "iopub.status.idle": "2024-07-03T04:53:33.649456Z",
          "shell.execute_reply.started": "2024-07-03T04:53:32.10945Z",
          "shell.execute_reply": "2024-07-03T04:53:33.648179Z"
        },
        "trusted": true,
        "id": "5wOV_qLY-Avn"
      },
      "execution_count": null,
      "outputs": []
    },
    {
      "cell_type": "code",
      "source": [
        "df_train =df_train.drop(df_objects.columns,axis=1)"
      ],
      "metadata": {
        "execution": {
          "iopub.status.busy": "2024-07-03T04:53:33.651296Z",
          "iopub.execute_input": "2024-07-03T04:53:33.651682Z",
          "iopub.status.idle": "2024-07-03T04:53:33.795684Z",
          "shell.execute_reply.started": "2024-07-03T04:53:33.65165Z",
          "shell.execute_reply": "2024-07-03T04:53:33.794332Z"
        },
        "trusted": true,
        "id": "CWeaV3WT-Avo"
      },
      "execution_count": null,
      "outputs": []
    },
    {
      "cell_type": "code",
      "source": [
        "df_train"
      ],
      "metadata": {
        "execution": {
          "iopub.status.busy": "2024-07-03T04:53:33.797134Z",
          "iopub.execute_input": "2024-07-03T04:53:33.797505Z",
          "iopub.status.idle": "2024-07-03T04:53:33.817975Z",
          "shell.execute_reply.started": "2024-07-03T04:53:33.797475Z",
          "shell.execute_reply": "2024-07-03T04:53:33.816837Z"
        },
        "trusted": true,
        "id": "XpTAcguS-Avo"
      },
      "execution_count": null,
      "outputs": []
    },
    {
      "cell_type": "code",
      "source": [
        "import pandas as pd\n",
        "import numpy as np\n",
        "from sklearn.preprocessing import MinMaxScaler\n",
        "from sklearn.model_selection import train_test_split\n",
        "\n",
        "\n",
        "# Mengubah kolom tanggal ke format datetime\n",
        "df_train['date'] = pd.to_datetime(df_train['date'])\n",
        "df_train = df_train.set_index(df_train['date'])\n",
        "df_train = df_train.drop(['date'],axis=1)\n"
      ],
      "metadata": {
        "execution": {
          "iopub.status.busy": "2024-07-03T04:53:33.819317Z",
          "iopub.execute_input": "2024-07-03T04:53:33.819683Z",
          "iopub.status.idle": "2024-07-03T04:53:34.169318Z",
          "shell.execute_reply.started": "2024-07-03T04:53:33.819654Z",
          "shell.execute_reply": "2024-07-03T04:53:34.168067Z"
        },
        "trusted": true,
        "id": "_XSDC4wp-Avo"
      },
      "execution_count": null,
      "outputs": []
    },
    {
      "cell_type": "code",
      "source": [
        "# Memory saving function credit to https://www.kaggle.com/gemartin/load-data-reduce-memory-usage\n",
        "def reduce_mem_usage(df):\n",
        "    \"\"\" iterate through all the columns of a dataframe and modify the data type\n",
        "        to reduce memory usage.\n",
        "    \"\"\"\n",
        "    #start_mem = df.memory_usage().sum() / 1024**2\n",
        "    #print('Memory usage of dataframe is {:.2f} MB'.format(start_mem))\n",
        "\n",
        "    for col in df.columns:\n",
        "        col_type = df[col].dtype\n",
        "\n",
        "        if col_type != object:\n",
        "            c_min = df[col].min()\n",
        "            c_max = df[col].max()\n",
        "            if str(col_type)[:3] == 'int':\n",
        "                if c_min > np.iinfo(np.int8).min and c_max < np.iinfo(np.int8).max:\n",
        "                    df[col] = df[col].astype(np.int8)\n",
        "                elif c_min > np.iinfo(np.int16).min and c_max < np.iinfo(np.int16).max:\n",
        "                    df[col] = df[col].astype(np.int16)\n",
        "                elif c_min > np.iinfo(np.int32).min and c_max < np.iinfo(np.int32).max:\n",
        "                    df[col] = df[col].astype(np.int32)\n",
        "                elif c_min > np.iinfo(np.int64).min and c_max < np.iinfo(np.int64).max:\n",
        "                    df[col] = df[col].astype(np.int64)\n",
        "            else:\n",
        "                if c_min > np.finfo(np.float16).min and c_max < np.finfo(np.float16).max:\n",
        "                    df[col] = df[col].astype(np.float16)\n",
        "                elif c_min > np.finfo(np.float32).min and c_max < np.finfo(np.float32).max:\n",
        "                    df[col] = df[col].astype(np.float32)\n",
        "                else:\n",
        "                    df[col] = df[col].astype(np.float64)\n",
        "\n",
        "    #end_mem = df.memory_usage().sum() / 1024**2\n",
        "    #print('Memory usage after optimization is: {:.2f} MB'.format(end_mem))\n",
        "    #print('Decreased by {:.1f}%'.format(100 * (start_mem - end_mem) / start_mem))\n",
        "\n",
        "    return df"
      ],
      "metadata": {
        "execution": {
          "iopub.status.busy": "2024-07-03T04:53:34.170797Z",
          "iopub.execute_input": "2024-07-03T04:53:34.171209Z",
          "iopub.status.idle": "2024-07-03T04:53:34.182541Z",
          "shell.execute_reply.started": "2024-07-03T04:53:34.171176Z",
          "shell.execute_reply": "2024-07-03T04:53:34.181499Z"
        },
        "trusted": true,
        "id": "JtKpqxRZ-Avo"
      },
      "execution_count": null,
      "outputs": []
    },
    {
      "cell_type": "code",
      "source": [
        "df_train =reduce_mem_usage(df_train)"
      ],
      "metadata": {
        "execution": {
          "iopub.status.busy": "2024-07-03T04:53:34.18392Z",
          "iopub.execute_input": "2024-07-03T04:53:34.184441Z",
          "iopub.status.idle": "2024-07-03T04:53:34.373217Z",
          "shell.execute_reply.started": "2024-07-03T04:53:34.184403Z",
          "shell.execute_reply": "2024-07-03T04:53:34.371605Z"
        },
        "trusted": true,
        "id": "fq0h-5s_-Avo"
      },
      "execution_count": null,
      "outputs": []
    },
    {
      "cell_type": "code",
      "source": [
        "df_train"
      ],
      "metadata": {
        "execution": {
          "iopub.status.busy": "2024-07-03T04:53:34.37461Z",
          "iopub.execute_input": "2024-07-03T04:53:34.375097Z",
          "iopub.status.idle": "2024-07-03T04:53:34.396093Z",
          "shell.execute_reply.started": "2024-07-03T04:53:34.37505Z",
          "shell.execute_reply": "2024-07-03T04:53:34.394959Z"
        },
        "trusted": true,
        "id": "b5BE1x_i-Avo"
      },
      "execution_count": null,
      "outputs": []
    },
    {
      "cell_type": "code",
      "source": [
        "import xgboost as xgb\n",
        "from sklearn.model_selection import train_test_split\n",
        "\n",
        "# Lag features\n",
        "df_train['lag_1'] = df_train['sales'].shift(1)\n",
        "df_train['lag_2'] = df_train['sales'].shift(2)\n",
        "df_train.dropna(inplace=True)\n",
        "\n",
        "# Train-test split\n",
        "X = df_train.drop(['sales'],axis=1)\n",
        "y = df_train['sales']\n",
        "X_train, X_test, y_train, y_test = train_test_split(X, y, test_size=0.2, shuffle=False)\n",
        "\n",
        "# Fit XGBoost model\n",
        "model = xgb.XGBRegressor()\n",
        "\n"
      ],
      "metadata": {
        "execution": {
          "iopub.status.busy": "2024-07-03T04:53:34.397497Z",
          "iopub.execute_input": "2024-07-03T04:53:34.397856Z",
          "iopub.status.idle": "2024-07-03T04:53:35.074544Z",
          "shell.execute_reply.started": "2024-07-03T04:53:34.397827Z",
          "shell.execute_reply": "2024-07-03T04:53:35.073388Z"
        },
        "trusted": true,
        "id": "AupzYdYd-Avp"
      },
      "execution_count": null,
      "outputs": []
    },
    {
      "cell_type": "code",
      "source": [
        "model.fit(X_train, y_train)\n",
        "\n",
        "# Predict on test set\n",
        "y_pred = model.predict(X_test)\n",
        "\n"
      ],
      "metadata": {
        "execution": {
          "iopub.status.busy": "2024-07-03T04:53:35.076025Z",
          "iopub.execute_input": "2024-07-03T04:53:35.076496Z",
          "iopub.status.idle": "2024-07-03T04:53:46.276445Z",
          "shell.execute_reply.started": "2024-07-03T04:53:35.076456Z",
          "shell.execute_reply": "2024-07-03T04:53:46.275485Z"
        },
        "trusted": true,
        "id": "PzbJHaRy-Avp"
      },
      "execution_count": null,
      "outputs": []
    },
    {
      "cell_type": "code",
      "source": [
        "# Evaluate the model\n",
        "from sklearn.metrics import mean_squared_error, mean_absolute_error\n",
        "\n",
        "# Calculate MSE and MAE\n",
        "mse = mean_squared_error(y_test, y_pred )\n",
        "mae = mean_absolute_error(y_test, y_pred )\n",
        "\n",
        "print(f\"Mean Squared Error (MSE): {mse}\")\n",
        "print(f\"Mean Absolute Error (MAE): {mae}\")"
      ],
      "metadata": {
        "execution": {
          "iopub.status.busy": "2024-07-03T04:53:46.277775Z",
          "iopub.execute_input": "2024-07-03T04:53:46.278424Z",
          "iopub.status.idle": "2024-07-03T04:53:46.290915Z",
          "shell.execute_reply.started": "2024-07-03T04:53:46.278391Z",
          "shell.execute_reply": "2024-07-03T04:53:46.289481Z"
        },
        "trusted": true,
        "id": "QMI50UY9-Avp"
      },
      "execution_count": null,
      "outputs": []
    },
    {
      "cell_type": "code",
      "source": [
        "hashed_df_test.reset_index(drop=True, inplace=True)\n",
        "hashed_df_test.index = hashed_df_test.index + 3000888  # Mulai dari 3000888\n",
        "\n",
        "# Merge dengan df_merge_test menggunakan indeks\n",
        "df_test = pd.merge(df_merge_test, hashed_df_test, left_index=True, right_index=True)"
      ],
      "metadata": {
        "execution": {
          "iopub.status.busy": "2024-07-03T04:53:46.292414Z",
          "iopub.execute_input": "2024-07-03T04:53:46.29282Z",
          "iopub.status.idle": "2024-07-03T04:53:46.311905Z",
          "shell.execute_reply.started": "2024-07-03T04:53:46.292784Z",
          "shell.execute_reply": "2024-07-03T04:53:46.310502Z"
        },
        "trusted": true,
        "id": "TI1l8iDD-Avp"
      },
      "execution_count": null,
      "outputs": []
    },
    {
      "cell_type": "code",
      "source": [
        "df_merge_test"
      ],
      "metadata": {
        "execution": {
          "iopub.status.busy": "2024-07-03T04:53:46.313586Z",
          "iopub.execute_input": "2024-07-03T04:53:46.31408Z",
          "iopub.status.idle": "2024-07-03T04:53:46.33335Z",
          "shell.execute_reply.started": "2024-07-03T04:53:46.314032Z",
          "shell.execute_reply": "2024-07-03T04:53:46.331876Z"
        },
        "trusted": true,
        "id": "6gRH-AWK-Avr"
      },
      "execution_count": null,
      "outputs": []
    },
    {
      "cell_type": "code",
      "source": [
        "df_test =df_test.drop(df_objects_test.columns,axis=1)"
      ],
      "metadata": {
        "execution": {
          "iopub.status.busy": "2024-07-03T04:53:46.335278Z",
          "iopub.execute_input": "2024-07-03T04:53:46.335759Z",
          "iopub.status.idle": "2024-07-03T04:53:46.346566Z",
          "shell.execute_reply.started": "2024-07-03T04:53:46.335716Z",
          "shell.execute_reply": "2024-07-03T04:53:46.345334Z"
        },
        "trusted": true,
        "id": "HuESF-gK-Avr"
      },
      "execution_count": null,
      "outputs": []
    },
    {
      "cell_type": "code",
      "source": [
        "df_test"
      ],
      "metadata": {
        "execution": {
          "iopub.status.busy": "2024-07-03T04:53:46.347917Z",
          "iopub.execute_input": "2024-07-03T04:53:46.348449Z",
          "iopub.status.idle": "2024-07-03T04:53:46.373204Z",
          "shell.execute_reply.started": "2024-07-03T04:53:46.348405Z",
          "shell.execute_reply": "2024-07-03T04:53:46.371844Z"
        },
        "trusted": true,
        "id": "5ScEP9m1-Avs"
      },
      "execution_count": null,
      "outputs": []
    },
    {
      "cell_type": "code",
      "source": [],
      "metadata": {
        "id": "v_rDHlgG-Avs"
      },
      "execution_count": null,
      "outputs": []
    },
    {
      "cell_type": "code",
      "source": [
        "df_test= df_test.set_index('date')\n"
      ],
      "metadata": {
        "execution": {
          "iopub.status.busy": "2024-07-03T04:53:46.374617Z",
          "iopub.execute_input": "2024-07-03T04:53:46.374999Z",
          "iopub.status.idle": "2024-07-03T04:53:46.385933Z",
          "shell.execute_reply.started": "2024-07-03T04:53:46.374945Z",
          "shell.execute_reply": "2024-07-03T04:53:46.384752Z"
        },
        "trusted": true,
        "id": "EVQ9oNhy-Avs"
      },
      "execution_count": null,
      "outputs": []
    },
    {
      "cell_type": "code",
      "source": [
        "# Ambil nilai terakhir dari lag features di data train\n",
        "last_lag_1_train = df_train['lag_1'].iloc[-1]\n",
        "last_lag_2_train = df_train['lag_2'].iloc[-1]\n",
        "\n",
        "# Buat lag features di data test dengan menggunakan nilai terakhir dari data train\n",
        "df_test['lag_1'] = last_lag_1_train\n",
        "df_test['lag_2'] = last_lag_2_train"
      ],
      "metadata": {
        "execution": {
          "iopub.status.busy": "2024-07-03T04:53:46.387513Z",
          "iopub.execute_input": "2024-07-03T04:53:46.387877Z",
          "iopub.status.idle": "2024-07-03T04:53:46.40031Z",
          "shell.execute_reply.started": "2024-07-03T04:53:46.387847Z",
          "shell.execute_reply": "2024-07-03T04:53:46.39893Z"
        },
        "trusted": true,
        "id": "p4xdTgoR-Avs"
      },
      "execution_count": null,
      "outputs": []
    },
    {
      "cell_type": "code",
      "source": [
        "df_test"
      ],
      "metadata": {
        "execution": {
          "iopub.status.busy": "2024-07-03T04:53:46.401663Z",
          "iopub.execute_input": "2024-07-03T04:53:46.402031Z",
          "iopub.status.idle": "2024-07-03T04:53:46.428086Z",
          "shell.execute_reply.started": "2024-07-03T04:53:46.401976Z",
          "shell.execute_reply": "2024-07-03T04:53:46.426789Z"
        },
        "trusted": true,
        "id": "bRLHTOo0-Avs"
      },
      "execution_count": null,
      "outputs": []
    },
    {
      "cell_type": "code",
      "source": [
        "predicts = model.predict(df_test)"
      ],
      "metadata": {
        "execution": {
          "iopub.status.busy": "2024-07-03T04:53:46.429636Z",
          "iopub.execute_input": "2024-07-03T04:53:46.430828Z",
          "iopub.status.idle": "2024-07-03T04:53:46.468612Z",
          "shell.execute_reply.started": "2024-07-03T04:53:46.430784Z",
          "shell.execute_reply": "2024-07-03T04:53:46.467479Z"
        },
        "trusted": true,
        "id": "hyfzRmvW-Avt"
      },
      "execution_count": null,
      "outputs": []
    },
    {
      "cell_type": "code",
      "source": [
        "df_test.reset_index(drop=True, inplace=True)\n",
        "df_test.index = df_test.index + 3000888 # Buat DataFrame baru untuk hasil prediksi\n",
        "predictions_df = pd.DataFrame({\n",
        "    'Id': df_test.index,  # Ambil PassengerId dari data uji\n",
        "    'sales': predicts  # Masukkan hasil prediksi\n",
        "})\n",
        "\n",
        "# Simpan DataFrame ke dalam file CSV\n",
        "predictions_df.to_csv('/kaggle/working/predictions.csv', index=False)"
      ],
      "metadata": {
        "execution": {
          "iopub.status.busy": "2024-07-03T04:57:10.440268Z",
          "iopub.execute_input": "2024-07-03T04:57:10.440714Z",
          "iopub.status.idle": "2024-07-03T04:57:10.501725Z",
          "shell.execute_reply.started": "2024-07-03T04:57:10.440672Z",
          "shell.execute_reply": "2024-07-03T04:57:10.500487Z"
        },
        "trusted": true,
        "id": "qOfgWptt-Avt"
      },
      "execution_count": null,
      "outputs": []
    },
    {
      "cell_type": "code",
      "source": [],
      "metadata": {
        "id": "1DZIYDJm-Avt"
      },
      "execution_count": null,
      "outputs": []
    }
  ]
}